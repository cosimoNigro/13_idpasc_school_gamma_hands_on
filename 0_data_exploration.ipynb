{
 "cells": [
  {
   "cell_type": "markdown",
   "metadata": {},
   "source": [
    "# 0. Data Exploration\n",
    "\n",
    "In this tutorial, we will become familiar with gamma-ray astronomical data from both _pointing_ and _all-sky_ instruments.\n",
    "\n",
    "It is important to notice that the standardised gamma-ray data format can encapsulate and describe, with the same specifications, data from instruments relying on very different detection techniques."
   ]
  },
  {
   "cell_type": "code",
   "execution_count": null,
   "metadata": {},
   "outputs": [],
   "source": [
    "# import libraries needed for the tutorial\n",
    "# - basic libraries (numpy, astropy, regions, matplotlib)\n",
    "import numpy as np\n",
    "import astropy.units as u\n",
    "from astropy.coordinates import SkyCoord, Angle\n",
    "from regions import PointSkyRegion, CircleSkyRegion, RectangleSkyRegion\n",
    "import matplotlib.pyplot as plt\n",
    "import matplotlib.image as mpimg\n",
    "# - Gammapy libraries\n",
    "from gammapy.data import EventList, Observation\n",
    "from gammapy.maps import Map\n",
    "from gammapy.stats import WStatCountsStatistic"
   ]
  },
  {
   "cell_type": "markdown",
   "metadata": {},
   "source": [
    "## 0.1. *Fermi*-LAT data exploration\n",
    "Let us examine first data from the *Fermi*-LAT telescope.   \n",
    "This will mostly be a data-exploration tutorial. For a proper *Fermi*-LAT data analyses, the `Gammapy` developers recommend using the  [Fermi sciece tools](https://fermi.gsfc.nasa.gov/ssc/data/analysis/software/) (ST) or their python wrapper [Fermipy](https://fermipy.readthedocs.io/en/latest/). `Gammapy`'s handling of *Fermi*-LAT is limited: the data we are going to use were reduced to a level compatible with `Gammapy` using the Fermi ST. Nonetheless, `Gammapy` provide an alternative for analyses not covered by the Fermi ST and for data combination.\n",
    "\n",
    "After this disclaimer, let us start to examine the data."
   ]
  },
  {
   "cell_type": "markdown",
   "metadata": {},
   "source": [
    "### 0.1.1. Event list\n",
    "The so-called _event list_, is one of the two fundamental parts of high-level gamma-ray data, as it contains fundamental quantities of the events classified as gamma-rays (energy, coordinates, arrival time, etc...) that are essential for any astronomical or physical analysis."
   ]
  },
  {
   "cell_type": "code",
   "execution_count": null,
   "metadata": {},
   "outputs": [],
   "source": [
    "events_fermi = EventList.read(\"$GAMMAPY_DATA/fermi_3fhl/fermi_3fhl_events_selected.fits.gz\")\n",
    "print(events_fermi)"
   ]
  },
  {
   "cell_type": "code",
   "execution_count": null,
   "metadata": {},
   "outputs": [],
   "source": [
    "events_fermi.table"
   ]
  },
  {
   "cell_type": "markdown",
   "metadata": {},
   "source": [
    "We can start to check how the quantities stored in the list are distributed. Certainly energy and direction are the most important for astrophysical applications. Let us start by histogramming the energies.\n",
    "\n",
    "The normal energy range of *Fermi*-LAT goes from 100 MeV to 2 TeV. This particular data set has been selected for a high-energy analysis that starts at 10 GeV. What shape does the distribution of energies have?"
   ]
  },
  {
   "cell_type": "code",
   "execution_count": null,
   "metadata": {},
   "outputs": [],
   "source": [
    "energy_bins = np.logspace(4, 7) # 100 GeV to 10 TeV (events energies are in MeV)\n",
    "plt.hist(events_fermi.energy.value, bins=energy_bins)\n",
    "plt.xscale(\"log\")\n",
    "plt.yscale(\"log\")\n",
    "plt.xlabel(\"E / MeV\")\n",
    "plt.show()"
   ]
  },
  {
   "cell_type": "markdown",
   "metadata": {},
   "source": [
    "Having a list of coordinates, we can try to plot a sky map, that is a two-dimensional histogram representing the number of photons observed from a given direction. Let us check first the spatial extent of our observation. Do we have events coming from all the directions in the sky, or just from a particular region.\n",
    "\n",
    "First let us understand which reference frame we are using. We will consider galactic coordinates, in this reference frame we have two coordinates:\n",
    "- a _longitude_, whose 0 angle represent the direction connecting the Earth to the centre of the Galaxy; \n",
    "- a _latitude_, whose 0 angle represent any point lying on the galactic plane."
   ]
  },
  {
   "cell_type": "code",
   "execution_count": null,
   "metadata": {},
   "outputs": [],
   "source": [
    "# read images\n",
    "img_1 = mpimg.imread(\"figures/longitude_diagram_300dpi-768x896.jpg\")\n",
    "img_2 = mpimg.imread(\"figures/latitude_diagram_300dpi-1024x683.jpg\")\n",
    "\n",
    "# display images\n",
    "fig, ax = plt.subplots(1,2, figsize=(12, 8))\n",
    "ax[0].imshow(img_1)\n",
    "ax[0].axis(\"off\")\n",
    "ax[1].imshow(img_2)\n",
    "ax[1].axis(\"off\")\n",
    "plt.show()"
   ]
  },
  {
   "cell_type": "markdown",
   "metadata": {},
   "source": [
    "Credit: [U. of Alabama](https://astronomy.ua.edu/undergraduate-program/course-resources-astronomy/lab-exercise-8-cosmic-distributions-and-the-galactic-ecology/1293-2/).\n",
    "\n",
    "**Question**: which coordinates will the centre of the Galaxy have in this reference frame?\n",
    "\n",
    "Back to our data, how could we check the coordinates of the events? Let us histogram them!"
   ]
  },
  {
   "cell_type": "code",
   "execution_count": null,
   "metadata": {},
   "outputs": [],
   "source": [
    "lon_bins = np.linspace(0, 360, 36)\n",
    "plt.hist(events_fermi.galactic.l.value, bins=lon_bins)\n",
    "plt.xlabel(\"Galactic Longitude \" + r\"$/\\,^{\\circ}$\")\n",
    "plt.show()"
   ]
  },
  {
   "cell_type": "code",
   "execution_count": null,
   "metadata": {},
   "outputs": [],
   "source": [
    "lat_bins = np.linspace(-90, 90, 18)\n",
    "plt.hist(events_fermi.galactic.b.value, bins=lat_bins)\n",
    "plt.xlabel(\"Galactic Longitude \" + r\"$/\\,^{\\circ}$\")\n",
    "plt.show()"
   ]
  },
  {
   "cell_type": "markdown",
   "metadata": {},
   "source": [
    "Ok, it seems already that there is a particular range from which a lot of photons are coming.   \n",
    "**Question**: can you guess which range of coordinates / region is?\n",
    "\n",
    "Let us now do a two-dimensional histogram, zooming in on the region of the galactic centre.\n",
    "There is tens of thousands of events, so let us choose only a subset within a rectangle of $10^{\\circ} \\times 4^{\\circ}$ around the Galactic Centre."
   ]
  },
  {
   "cell_type": "code",
   "execution_count": null,
   "metadata": {},
   "outputs": [],
   "source": [
    "coordinates_gc = SkyCoord(0, 0, unit=\"deg\", frame=\"galactic\")\n",
    "rectangle = RectangleSkyRegion(center=coordinates_gc, width=10 * u.deg, height=8 * u.deg)\n",
    "print(rectangle)"
   ]
  },
  {
   "cell_type": "code",
   "execution_count": null,
   "metadata": {},
   "outputs": [],
   "source": [
    "# let us print the number of events before and after selecting\n",
    "print(f\"events before selection {len(events_fermi.table)}\")\n",
    "events_fermi_gc = events_fermi.select_region(regions = rectangle)\n",
    "print(f\"events after selection {len(events_fermi_gc.table)}\")"
   ]
  },
  {
   "cell_type": "code",
   "execution_count": null,
   "metadata": {},
   "outputs": [],
   "source": [
    "# just a quick check that the cut was applied\n",
    "fig, ax = plt.subplots(1, 2, sharey=True)\n",
    "ax[0].hist(events_fermi_gc.galactic.l.value, bins=lon_bins)\n",
    "ax[1].hist(events_fermi_gc.galactic.b.value, bins=lat_bins)\n",
    "ax[0].set_xlabel(\"Galactic Longitude \" + r\"$/\\,^{\\circ}$\")\n",
    "ax[1].set_xlabel(\"Galactic Latitude \" + r\"$/\\,^{\\circ}$\")\n",
    "plt.show()"
   ]
  },
  {
   "cell_type": "markdown",
   "metadata": {},
   "source": [
    "I would be a complicated to create a skymap ourselves by filling a 2D histogram, mostly for two reasons:\n",
    "1) we would have to find a way to wrap the coordinates around 0 (that is the range should go 5 -> 0 -> 365);\n",
    "2) by filling a flat two-dimensional histogram we would distort the denisty of events (problem of mapping the surface of a sphere onto a flat surface).\n",
    "For these reasons, we use `Gammapy`'s built-in [`Map`](https://docs.gammapy.org/dev/api/gammapy.maps.Map.html) class."
   ]
  },
  {
   "cell_type": "code",
   "execution_count": null,
   "metadata": {},
   "outputs": [],
   "source": [
    "# let us create the skymap, fill it, and plot it\n",
    "counts = Map.create(\n",
    "    skydir=coordinates_gc,\n",
    "    npix=(120, 100), # number of pixels in each direction\n",
    "    proj=\"TAN\",\n",
    "    frame=\"galactic\",\n",
    "    binsz=0.1, # size of the square of each pixel\n",
    ")\n",
    "counts.fill_events(events_fermi_gc)\n",
    "counts.plot(stretch=\"sqrt\", vmax=30, add_cbar=True)\n",
    "# NOTE: show the smoothing\n",
    "plt.show()"
   ]
  },
  {
   "cell_type": "markdown",
   "metadata": {},
   "source": [
    "### 0.1.2. Instrument response function\n",
    "\n",
    "The instrument response function is the second component of our standardised, high-level, gamma-ray data. It parameterises the response of the systems, meaning, it tells us how estimated quantities relate to real one (e.g. reconstructed vs true energy). Additionally, through exposure or effective areas it gives us the possibility to convert observables from the \"detector world\" (e.g. counts) to the \"physical world\" (e.g. fluxes).\n",
    "\n",
    "For _all-sky_ instruments the response function is given as a function of sky coordinates and energy, as we shall see for _Fermi_-LAT exposure. "
   ]
  },
  {
   "cell_type": "code",
   "execution_count": null,
   "metadata": {},
   "outputs": [],
   "source": [
    "exposure_hpx = Map.read(\"$GAMMAPY_DATA/fermi_3fhl/fermi_3fhl_exposure_cube_hpx.fits.gz\")\n",
    "exposure_hpx.plot(add_cbar=True)\n",
    "plt.show()"
   ]
  },
  {
   "cell_type": "markdown",
   "metadata": {},
   "source": [
    "In general, the IRF is function both of sky coordinates and of energy. Let us look at the values of the exposure in the first energy bin."
   ]
  },
  {
   "cell_type": "code",
   "execution_count": null,
   "metadata": {},
   "outputs": [],
   "source": [
    "exposure_hpx.slice_by_idx({\"energy_true\": 0}).plot(add_cbar=True)\n",
    "plt.show()"
   ]
  },
  {
   "cell_type": "markdown",
   "metadata": {},
   "source": [
    "## 0.2. IACT data exploration (MAGIC and H.E.S.S.)\n",
    "Let us now examine data from MAGIC and H.E.S.S., two IACTs, and therefore _pointing_ instruments."
   ]
  },
  {
   "cell_type": "markdown",
   "metadata": {},
   "source": [
    "### 0.2.1. Event lists\n",
    "This time, events and IRF are incorporated in the same file. For IACT data we can use `Gammapy`'s `Observation` class. Let us start reading the events in one of the MAGIC files."
   ]
  },
  {
   "cell_type": "code",
   "execution_count": null,
   "metadata": {},
   "outputs": [],
   "source": [
    "obs_magic = Observation.read(\"$GAMMAPY_DATA/magic/rad_max/data/20131004_05029747_DL3_CrabNebula-W0.40+035.fits\")\n",
    "events_magic = obs_magic.events"
   ]
  },
  {
   "cell_type": "code",
   "execution_count": null,
   "metadata": {},
   "outputs": [],
   "source": [
    "events_magic.table"
   ]
  },
  {
   "cell_type": "markdown",
   "metadata": {},
   "source": [
    "We can see that there is much less information per each event with respect to *Fermi*-LAT's data. Let us try to histogram energies and coordinates again.\n",
    "The energy range of MAGIC goes from 100 GeV to tens of TeV. As for the extent of the area of the sky observed, from the events' RA and DEC columns, it looks quite small, let us quickly check the extent."
   ]
  },
  {
   "cell_type": "code",
   "execution_count": null,
   "metadata": {},
   "outputs": [],
   "source": [
    "delta_lon = np.max(events_magic.galactic.l.value) - np.min(events_magic.galactic.l.value)\n",
    "delta_lat = np.max(events_magic.galactic.b.value) - np.min(events_magic.galactic.b.value)\n",
    "print(f\"area of the sky observed: {delta_lon:.2f} deg x {delta_lat:.2f} deg\")"
   ]
  },
  {
   "cell_type": "code",
   "execution_count": null,
   "metadata": {},
   "outputs": [],
   "source": [
    "fig, ax = plt.subplots(1, 3, figsize=(12, 4))\n",
    "\n",
    "lon_bins = np.linspace(182, 188, 10)\n",
    "lat_binning = np.linspace(-8, -2, 10)\n",
    "energy_bins = np.logspace(-2, 2, 20) # 10 GeV to 10 TeV (events energies are in TeV)\n",
    "\n",
    "ax[0].hist(events_magic.galactic.l.value, bins=lon_bins)\n",
    "ax[1].hist(events_magic.galactic.b.value, bins=lat_bins)\n",
    "ax[2].hist(events_magic.energy.value, bins=energy_bins)\n",
    "\n",
    "ax[0].set_xlabel(\"Galactic Longitude \" + r\"$/\\,^{\\circ}$\")\n",
    "ax[1].set_xlabel(\"Galactic Latitude \" + r\"$/\\,^{\\circ}$\")\n",
    "ax[2].set_xscale(\"log\")\n",
    "ax[2].set_yscale(\"log\")\n",
    "ax[2].set_xlabel(\"Energy / TeV\")\n",
    "plt.show()"
   ]
  },
  {
   "cell_type": "markdown",
   "metadata": {},
   "source": [
    "`Gammapy` can produce all of these plots (including a skymap) automatically for us."
   ]
  },
  {
   "cell_type": "code",
   "execution_count": null,
   "metadata": {},
   "outputs": [],
   "source": [
    "events_magic.peek()"
   ]
  },
  {
   "cell_type": "markdown",
   "metadata": {},
   "source": [
    "### 0.2.2. IACT instrument response function\n",
    "Let us check the effective area of the H.E.S.S. instrument (equivalent of the exposure for all-sky instruments)."
   ]
  },
  {
   "cell_type": "code",
   "execution_count": null,
   "metadata": {},
   "outputs": [],
   "source": [
    "obs_hess = Observation.read(\"$GAMMAPY_DATA/hess-dl3-dr1/data/hess_dl3_dr1_obs_id_023523.fits.gz\")\n",
    "obs_hess.aeff.plot()\n",
    "plt.show()"
   ]
  },
  {
   "cell_type": "markdown",
   "metadata": {},
   "source": [
    "This IRF component is a function of the energy and of the offset. As we are observing a small area of the sky, the spatial dependence of the IRF is more conveniently expressed as a function of the detector coordinates (offset from the camera centre rather than sky coordinates). In this particular case, we see that the IRF. If the source of our interest sits, for example at 0.4 or 1 degrees from the camera centre, we can evaluate the effective area there."
   ]
  },
  {
   "cell_type": "code",
   "execution_count": null,
   "metadata": {},
   "outputs": [],
   "source": [
    "fig, ax = plt.subplots()\n",
    "obs_hess.aeff.plot_energy_dependence(ax=ax, offset=[Angle(\"0.4 deg\"), Angle(\"1 deg\")])\n",
    "ax.set_yscale(\"log\")\n",
    "plt.show()"
   ]
  },
  {
   "cell_type": "markdown",
   "metadata": {},
   "source": [
    "## 0.3 The first estimation, significance of a signal\n",
    "Let us consider one of the runs of MAGIC and let us estimate the significance of the gamma-ray signal from the Crab Nebula.\n",
    "One of the techniques to estimate the strength of the signal in gamma-ray astronomy is known as _aperture photometry_. We will illustrate it step-by-step visually. \n",
    "\n",
    "Let us start by recreating a sky-map of the region around the Crab Nebula, the source observed in these runs from IACTs. \n",
    "Let us centre the map on the pointing position of the telescope."
   ]
  },
  {
   "cell_type": "code",
   "execution_count": null,
   "metadata": {},
   "outputs": [],
   "source": [
    "magic_pointing_radec = SkyCoord(\n",
    "    ra=obs_magic.obs_info[\"RA_PNT\"] * u.deg,\n",
    "    dec=obs_magic.obs_info[\"DEC_PNT\"] * u.deg,\n",
    "    frame=\"icrs\"\n",
    ")\n",
    "counts = Map.create(skydir=magic_pointing_radec, binsz=0.06, width=4)\n",
    "# define wcs geom from the counts map\n",
    "wcs = counts.geom.wcs\n",
    "\n",
    "# fill the map and plot it, eventually cut in energy\n",
    "counts.fill_events(events_magic)\n",
    "ax = counts.plot(cmap=\"viridis\", add_cbar=True)\n",
    "\n",
    "# plot also the pointing\n",
    "pointing = PointSkyRegion(magic_pointing_radec)\n",
    "pointing.to_pixel(wcs).plot(ax=ax, color=\"goldenrod\", marker=\"+\", markersize=14)\n",
    "plt.show()"
   ]
  },
  {
   "cell_type": "markdown",
   "metadata": {},
   "source": [
    "It is quite clear where the source is, let us enclose the region we think contains the signal in a circle and count the events inside there. Let us start with a circle centred on the Crab Nebula nominal position and of radius 0.2 deg. We will call this region **ON** region."
   ]
  },
  {
   "cell_type": "code",
   "execution_count": null,
   "metadata": {},
   "outputs": [],
   "source": [
    "coordinates_crab = SkyCoord.from_name(\"Crab Nebula\")\n",
    "on_region = CircleSkyRegion(center=coordinates_crab, radius=0.2 * u.deg)\n",
    "\n",
    "# overplot the ON region on the previous map\n",
    "# fill the map and plot it, eventually cut in energy\n",
    "counts.fill_events(events_magic)\n",
    "ax = counts.plot(cmap=\"viridis\", add_cbar=True)\n",
    "\n",
    "# plot the pointing\n",
    "pointing = PointSkyRegion(magic_pointing_radec)\n",
    "pointing.to_pixel(wcs).plot(ax=ax, color=\"goldenrod\", marker=\"+\", markersize=14)\n",
    "plt.plot()\n",
    "\n",
    "# plot the ON region\n",
    "on_region.to_pixel(wcs).plot(ax=ax, edgecolor=\"crimson\", linewidth=2)\n",
    "\n",
    "plt.show()"
   ]
  },
  {
   "cell_type": "markdown",
   "metadata": {},
   "source": [
    "**Question**: can you figure why the telescope is not pointing exactly at the source? (It will become anyhow clear later).\n",
    "\n",
    "How many events do we have within that circle?"
   ]
  },
  {
   "cell_type": "code",
   "execution_count": null,
   "metadata": {},
   "outputs": [],
   "source": [
    "on_events = events_magic.select_region(on_region)\n",
    "n_on = len(on_events.table)\n",
    "print(n_on)"
   ]
  },
  {
   "cell_type": "markdown",
   "metadata": {},
   "source": [
    "In the **ON** region we also have background counts, i.e. events that are not real gamma rays. To subtract them, we estimate the background events from another region, that we refer to as **OFF**, that do not contain any real source of gamma ray data.\n",
    "As we saw in the data exploration, for IACTs, the response of the system change with the distance from the centre, but it's symmetric in offset. So therefore, let us choose, to estimate the background, a region symmetric w.r.t. to the centre of the camera, to the **ON** region."
   ]
  },
  {
   "cell_type": "code",
   "execution_count": null,
   "metadata": {},
   "outputs": [],
   "source": [
    "# estimate distance from the pointing to the centre of the ON region\n",
    "pointing_offset = magic_pointing_radec.separation(coordinates_crab)\n",
    "pointing_offset.to_value(\"deg\")"
   ]
  },
  {
   "cell_type": "code",
   "execution_count": null,
   "metadata": {},
   "outputs": [],
   "source": [
    "# let us create a region identical to the ON, but mirrored w.r.t. to the camera centre (i.e. rotated by 180 deg)\n",
    "source_angle = magic_pointing_radec.position_angle(coordinates_crab)\n",
    "off_region_angle = source_angle + 180 * u.deg\n",
    "off_region_centre = magic_pointing_radec.directional_offset_by(position_angle=off_region_angle, separation=pointing_offset)\n",
    "\n",
    "off_region = CircleSkyRegion(center=off_region_centre, radius=0.2 * u.deg)"
   ]
  },
  {
   "cell_type": "code",
   "execution_count": null,
   "metadata": {},
   "outputs": [],
   "source": [
    "# replot everything\n",
    "ax = counts.plot(cmap=\"viridis\", add_cbar=True)\n",
    "\n",
    "# plot the pointing\n",
    "pointing = PointSkyRegion(magic_pointing_radec)\n",
    "pointing.to_pixel(wcs).plot(ax=ax, color=\"goldenrod\", marker=\"+\", markersize=14)\n",
    "\n",
    "# plot the ON and OFF regions\n",
    "on_region.to_pixel(wcs).plot(ax=ax, edgecolor=\"crimson\", linewidth=2)\n",
    "off_region.to_pixel(wcs).plot(ax=ax, edgecolor=\"dodgerblue\", linewidth=2)\n",
    "\n",
    "plt.show()"
   ]
  },
  {
   "cell_type": "code",
   "execution_count": null,
   "metadata": {},
   "outputs": [],
   "source": [
    "off_events = events_magic.select_region(off_region)\n",
    "n_off = len(off_events.table)\n",
    "print(n_off)"
   ]
  },
  {
   "cell_type": "markdown",
   "metadata": {},
   "source": [
    "What do we do with these two numbers?\n",
    "We use Li & Ma formual to compute the significance. They are used also to estimate the excess counts significance, i.e. the probability that a given number of measured events actually contains some signal events, as well as the errors associated to this estimated number of signal counts."
   ]
  },
  {
   "cell_type": "code",
   "execution_count": null,
   "metadata": {},
   "outputs": [],
   "source": [
    "statistics = WStatCountsStatistic(n_on=n_on, n_off=n_off, alpha=1)\n",
    "statistics.sqrt_ts"
   ]
  },
  {
   "cell_type": "markdown",
   "metadata": {},
   "source": [
    "## 0.4. Exercises for this tutorial\n",
    "\n",
    "### 0.4.1.\n",
    "Select an on region of $0.2^{\\circ}$ around the nominal coordinates of the Crab. Create an histograms of the counts vs energy for the events contained in that region for both the MAGIC and the H.E.S.S. observations (create a figure with both histograms in the same plot).\n",
    "\n",
    "### 0.4.2.\n",
    "Compare, in the same plot, the effective areas of the MAGIC and H.E.S.S. observations at an offset of $0.4^{\\circ}$ degree."
   ]
  }
 ],
 "metadata": {
  "kernelspec": {
   "display_name": "Python 3 (ipykernel)",
   "language": "python",
   "name": "python3"
  },
  "language_info": {
   "codemirror_mode": {
    "name": "ipython",
    "version": 3
   },
   "file_extension": ".py",
   "mimetype": "text/x-python",
   "name": "python",
   "nbconvert_exporter": "python",
   "pygments_lexer": "ipython3",
   "version": "3.10.14"
  }
 },
 "nbformat": 4,
 "nbformat_minor": 4
}
