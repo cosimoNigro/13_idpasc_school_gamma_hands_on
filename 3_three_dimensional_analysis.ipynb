{
 "cells": [
  {
   "cell_type": "markdown",
   "id": "d7951bfa-da91-4675-9f2d-91ba650c5248",
   "metadata": {},
   "source": [
    "# 3. Three-dimensional analysis\n",
    "The objective of this final notebook is to familiarise ourselves with the three-dimensional or spectro-morphological analysis."
   ]
  },
  {
   "cell_type": "code",
   "execution_count": null,
   "id": "57494b80-37df-4486-b793-a93c75ea4a21",
   "metadata": {},
   "outputs": [],
   "source": [
    "# - basic dependencies\n",
    "import numpy as np\n",
    "import astropy.units as u\n",
    "from astropy.coordinates import SkyCoord\n",
    "from regions import PointSkyRegion, CircleSkyRegion\n",
    "import matplotlib.pyplot as plt\n",
    "\n",
    "# - Gammapy dependencies\n",
    "from gammapy.data import FixedPointingInfo, Observation, observatory_locations\n",
    "from gammapy.datasets import MapDataset\n",
    "from gammapy.irf import load_irf_dict_from_file\n",
    "from gammapy.makers import MapDatasetMaker, SafeMaskMaker\n",
    "from gammapy.maps import Map, MapAxis, WcsGeom\n",
    "from gammapy.modeling import Fit\n",
    "from gammapy.modeling.models import (\n",
    "    Models,\n",
    "    SkyModel,\n",
    "    FoVBackgroundModel,\n",
    "    PointSpatialModel,\n",
    "    GaussianSpatialModel,\n",
    "    ShellSpatialModel,\n",
    "    PowerLawSpectralModel,\n",
    "    ExpCutoffPowerLawSpectralModel,\n",
    ")"
   ]
  },
  {
   "cell_type": "markdown",
   "id": "9ac78542-8792-4113-a859-9ee78acd1c41",
   "metadata": {},
   "source": [
    "## 3.1. Data simulation\n",
    "\n",
    "Let us simulate the data ourselves. Let us use consider three sources: a point-like source at the galactic centre, a source with Gaussian extension right beside it, and let us make both of them sit on top of a larger soure with a shell morphology."
   ]
  },
  {
   "cell_type": "code",
   "execution_count": null,
   "id": "8e2cd8ea-2f7f-42fd-a3e0-47e23cbce156",
   "metadata": {},
   "outputs": [],
   "source": [
    "# - source 1\n",
    "spectral_model_1 = ExpCutoffPowerLawSpectralModel(\n",
    "    amplitue=5e-12 * u.Unit(\"TeV-1 cm-2 s-1\"),\n",
    "    index=1.5,\n",
    "    reference=1 * u.TeV,\n",
    "    lambda_=1 / (3 * u.TeV),  # a cutoff at 10 TeV\n",
    ")\n",
    "spatial_model_1 = PointSpatialModel(lon_0=\"0 deg\", lat_0=\"0 deg\", frame=\"galactic\")\n",
    "model_1 = SkyModel(spectral_model_1, spatial_model_1, name=\"point source\")\n",
    "\n",
    "# - source 2\n",
    "spectral_model_2 = PowerLawSpectralModel(\n",
    "    amplitude=3e-12 * u.Unit(\"TeV-1 cm-2 s-1\"), index=2, reference=1 * u.TeV\n",
    ")\n",
    "spatial_model_2 = GaussianSpatialModel(\n",
    "    lon_0=\"0.4 deg\", lat_0=\"0.15 deg\", sigma=0.2 * u.deg, frame=\"galactic\"\n",
    ")\n",
    "model_2 = SkyModel(spectral_model_2, spatial_model_2, name=\"gaussian\")\n",
    "\n",
    "# - source 3\n",
    "spectral_model_3 = PowerLawSpectralModel(\n",
    "    amplitude=1e-11 * u.Unit(\"TeV-1 cm-2 s-1\"), index=2.7, reference=1 * u.TeV\n",
    ")\n",
    "spatial_model_3 = ShellSpatialModel(\n",
    "    lon_0=\"0.06 deg\",\n",
    "    lat_0=\"0.6 deg\",\n",
    "    radius=0.6 * u.deg,\n",
    "    width=0.3 * u.deg,\n",
    "    frame=\"galactic\",\n",
    ")\n",
    "model_3 = SkyModel(spectral_model_3, spatial_model_3, name=\"shell\")\n",
    "\n",
    "# let us add a Background as well!\n",
    "bkg_model = FoVBackgroundModel(dataset_name=\"dataset-simu\")\n",
    "\n",
    "models_simu = Models([model_1, model_2, model_3, bkg_model])"
   ]
  },
  {
   "cell_type": "code",
   "execution_count": null,
   "id": "c42e6b83-3184-4e20-81d5-28db8760054b",
   "metadata": {},
   "outputs": [],
   "source": [
    "# let us make a quick plot of the spectrum of the three sources\n",
    "energy_bounds = [10 * u.GeV, 100 * u.TeV]\n",
    "model_1.spectral_model.plot(energy_bounds, sed_type=\"e2dnde\", label=\"point source\")\n",
    "model_2.spectral_model.plot(energy_bounds, sed_type=\"e2dnde\", label=\"gaussian\")\n",
    "model_3.spectral_model.plot(energy_bounds, sed_type=\"e2dnde\", label=\"shell\")\n",
    "plt.legend()\n",
    "plt.show()"
   ]
  },
  {
   "cell_type": "markdown",
   "id": "3f5d7d29-cd5e-4152-9e39-8800d1850fb5",
   "metadata": {},
   "source": [
    "For the simulation we will not simulate an actual **observation**, that is a file with event list and IRF, we will rather simulate a 3D dataset. I.e. the data-cube we discussed in the previous section. To do so, we will adopt the IRF of CTA southern array."
   ]
  },
  {
   "cell_type": "code",
   "execution_count": null,
   "id": "92abac96-581e-4b5f-b637-8c3c102321a8",
   "metadata": {},
   "outputs": [],
   "source": [
    "# Loading IRFs\n",
    "irfs = load_irf_dict_from_file(\n",
    "    \"$GAMMAPY_DATA/cta-1dc/caldb/data/cta/1dc/bcf/South_z20_50h/irf_file.fits\"\n",
    ")\n",
    "\n",
    "# Define the observation parameters (typically the observation duration and the pointing position):\n",
    "livetime = 4.0 * u.hr\n",
    "pointing_position = SkyCoord(0, 0, unit=\"deg\", frame=\"galactic\")\n",
    "# We want to simulate an observation pointing at a fixed position in the sky.\n",
    "# For this, we use the `FixedPointingInfo` class\n",
    "pointing = FixedPointingInfo(\n",
    "    fixed_icrs=pointing_position.icrs,\n",
    ")\n",
    "\n",
    "# Define map geometry for binned simulation\n",
    "energy_reco = MapAxis.from_edges(\n",
    "    np.logspace(-1, 2, 15), unit=\"TeV\", name=\"energy\", interp=\"log\"\n",
    ")\n",
    "geom = WcsGeom.create(\n",
    "    skydir=(0, 0),\n",
    "    binsz=0.02,\n",
    "    width=(6, 6),\n",
    "    frame=\"galactic\",\n",
    "    axes=[energy_reco],\n",
    ")\n",
    "# It is usually useful to have a separate binning for the true energy axis\n",
    "energy_true = MapAxis.from_edges(\n",
    "    np.logspace(-2, 3, 50), unit=\"TeV\", name=\"energy_true\", interp=\"log\"\n",
    ")\n",
    "\n",
    "empty = MapDataset.create(geom, name=\"dataset-simu\", energy_axis_true=energy_true)"
   ]
  },
  {
   "cell_type": "code",
   "execution_count": null,
   "id": "7f6b944d-1ec0-4acf-b657-e8aad2356a33",
   "metadata": {},
   "outputs": [],
   "source": [
    "# Create an in-memory observation\n",
    "location = observatory_locations[\"cta_south\"]\n",
    "obs = Observation.create(\n",
    "    pointing=pointing, livetime=livetime, irfs=irfs, location=location\n",
    ")\n",
    "print(obs)\n",
    "\n",
    "# Make the MapDataset\n",
    "maker = MapDatasetMaker(selection=[\"exposure\", \"background\", \"psf\", \"edisp\"])\n",
    "\n",
    "maker_safe_mask = SafeMaskMaker(methods=[\"offset-max\"], offset_max=4.0 * u.deg)\n",
    "\n",
    "dataset = maker.run(empty, obs)\n",
    "dataset = maker_safe_mask.run(dataset, obs)\n",
    "\n",
    "# Add the model on the dataset and Poisson fluctuate\n",
    "dataset.models = models_simu\n",
    "dataset.fake(0)\n",
    "\n",
    "# do a print on the dataset - there is now a counts maps\n",
    "print(dataset)"
   ]
  },
  {
   "cell_type": "markdown",
   "id": "29f0473a-91ac-4008-85ec-eee79e981629",
   "metadata": {},
   "source": [
    "Let us plot what we have simulated, we can see the contribution of the different sources in the different energy bins. Let us first examine an interactive plot and then let us make different plots in different energy bins with contours of the sources we have simulated."
   ]
  },
  {
   "cell_type": "code",
   "execution_count": null,
   "id": "1ca38b86-6265-4d89-9f8b-b8178300e26f",
   "metadata": {},
   "outputs": [],
   "source": [
    "dataset.counts.smooth(0.05 * u.deg).plot_interactive(add_cbar=True, stretch=\"linear\")\n",
    "plt.show()"
   ]
  },
  {
   "cell_type": "markdown",
   "id": "6aac6fd2-67c1-4a15-aaea-8767458aaa09",
   "metadata": {},
   "source": [
    "**Question**: can you explain why the different sources appear and disappear in the different energy bins?"
   ]
  },
  {
   "cell_type": "code",
   "execution_count": null,
   "id": "696a7cff-5812-426c-b54c-b0a7157f18ce",
   "metadata": {},
   "outputs": [],
   "source": [
    "energy_edges = dataset.counts.geom.axes[\"energy\"].edges\n",
    "\n",
    "for idx in (1, 5, 10):\n",
    "\n",
    "    counts_map = dataset.counts.slice_by_idx({\"energy\": idx})\n",
    "    wcs = counts_map.geom.wcs\n",
    "\n",
    "    ax = counts_map.smooth(0.05 * u.deg).plot(add_cbar=True, stretch=\"linear\")\n",
    "    region_source_1 = spatial_model_1.to_region()\n",
    "    region_source_1.to_pixel(wcs).plot(\n",
    "        ax=ax, color=\"k\", marker=\"*\", markersize=14, markeredgewidth=1.5\n",
    "    )\n",
    "\n",
    "    region_source_2 = spatial_model_2.to_region()\n",
    "    region_source_2.to_pixel(wcs).plot(ax=ax, color=\"dodgerblue\", ls=\"--\", lw=3)\n",
    "\n",
    "    region_source_3 = spatial_model_3.to_region()\n",
    "    region_source_3.to_pixel(wcs).plot(ax=ax, color=\"teal\", ls=\"--\", lw=3)\n",
    "\n",
    "    e_min = energy_edges[idx]\n",
    "    e_max = energy_edges[idx + 1]\n",
    "\n",
    "    ax.set_title(f\"{e_min:.2f} < E < {e_max:.2f}\")\n",
    "    plt.show()"
   ]
  },
  {
   "cell_type": "markdown",
   "id": "530ff6d8-366d-4406-89e1-e7dc934deeba",
   "metadata": {},
   "source": [
    "## 3.2. Fitting!\n",
    "Let us perform the fit now. But let us see first what happens if we do not include one of the simulated sources in our modelling."
   ]
  },
  {
   "cell_type": "code",
   "execution_count": null,
   "id": "27fc83aa-a612-4692-b629-b48ad3484536",
   "metadata": {},
   "outputs": [],
   "source": [
    "models_fit_1 = Models([model_1.copy(), model_3.copy(), bkg_model.copy()])\n",
    "\n",
    "# We do not want to fit the background in this case, so we will freeze the parameters\n",
    "models_fit_1[\"dataset-simu-bkg\"].spectral_model.norm.frozen = True\n",
    "models_fit_1[\"dataset-simu-bkg\"].spectral_model.tilt.frozen = True\n",
    "\n",
    "dataset.models = models_fit_1"
   ]
  },
  {
   "cell_type": "code",
   "execution_count": null,
   "id": "24ffd520-ba0f-4239-a667-4b5dd87d526a",
   "metadata": {},
   "outputs": [],
   "source": [
    "%%time\n",
    "# let us fit it!\n",
    "fit = Fit()\n",
    "results = fit.run(datasets=[dataset])\n",
    "print(results)\n",
    "print(models_fit_1)"
   ]
  },
  {
   "cell_type": "markdown",
   "id": "324f0482-4a60-42f9-abd5-d23ce08016ee",
   "metadata": {},
   "source": [
    "A very useful tool to examine the quality of a spectro-morphological fit is the residual map. In it we subtract, pixel by pixel, the best-fit model map and the actual data. Positive residual will hint to a source we have not accounted for in our model. Negative ones to a source that is not necessary to model our field of view."
   ]
  },
  {
   "cell_type": "code",
   "execution_count": null,
   "id": "9651d863-d877-4877-9fec-4e37d683e3a1",
   "metadata": {},
   "outputs": [],
   "source": [
    "ax = dataset.plot_residuals_spatial(method=\"diff/sqrt(model)\", vmin=-0.5, vmax=0.5)\n",
    "region_source_2.to_pixel(wcs).plot(ax=ax, color=\"dodgerblue\", ls=\"--\", lw=3)\n",
    "plt.show()"
   ]
  },
  {
   "cell_type": "markdown",
   "id": "3ebf05c8-21ce-4092-b776-f3cb4f436695",
   "metadata": {},
   "source": [
    "Let us plot the spectra we have fitted."
   ]
  },
  {
   "cell_type": "code",
   "execution_count": null,
   "id": "53fb7207-6f42-4889-bf56-5b6b795b4d43",
   "metadata": {},
   "outputs": [],
   "source": [
    "fig, ax = plt.subplots()\n",
    "\n",
    "plot_kwargs = {\n",
    "    \"sed_type\": \"e2dnde\",\n",
    "    \"yunits\": u.Unit(\"TeV cm-2 s-1\"),\n",
    "    \"xunits\": u.GeV,\n",
    "}\n",
    "\n",
    "energy_range = [100 * u.GeV, 10 * u.TeV]\n",
    "\n",
    "models_fit_1[0].spectral_model.plot(\n",
    "    energy_range,\n",
    "    ax=ax,\n",
    "    color=\"dimgray\",\n",
    "    ls=\"--\",\n",
    "    label=\"point source, fit\",\n",
    "    **plot_kwargs,\n",
    ")\n",
    "models_fit_1[0].spectral_model.plot_error(\n",
    "    energy_range, ax=ax, facecolor=\"dimgray\", alpha=0.4, **plot_kwargs\n",
    ")\n",
    "model_1.spectral_model.plot(\n",
    "    energy_range,\n",
    "    ax=ax,\n",
    "    color=\"k\",\n",
    "    ls=\"-\",\n",
    "    label=\"point source, simulated\",\n",
    "    **plot_kwargs,\n",
    ")\n",
    "\n",
    "model_2.spectral_model.plot(\n",
    "    energy_range,\n",
    "    ax=ax,\n",
    "    color=\"crimson\",\n",
    "    ls=\"-\",\n",
    "    label=\"gaussian, simulated\",\n",
    "    **plot_kwargs,\n",
    ")\n",
    "\n",
    "models_fit_1[1].spectral_model.plot(\n",
    "    energy_range,\n",
    "    ax=ax,\n",
    "    color=\"turquoise\",\n",
    "    ls=\"--\",\n",
    "    label=\"shell, fit\",\n",
    "    **plot_kwargs,\n",
    ")\n",
    "models_fit_1[1].spectral_model.plot_error(\n",
    "    energy_range, ax=ax, facecolor=\"turquoise\", alpha=0.4, **plot_kwargs\n",
    ")\n",
    "model_3.spectral_model.plot(\n",
    "    energy_range,\n",
    "    ax=ax,\n",
    "    color=\"teal\",\n",
    "    ls=\"-\",\n",
    "    label=\"shell, simulated\",\n",
    "    **plot_kwargs,\n",
    ")\n",
    "ax.set_xlabel(r\"$E\\,/\\,{\\rm GeV}$\")\n",
    "ax.set_ylabel(\n",
    "    r\"$E^2 {\\rm d}\\phi/{\\rm d}E\\,/\\,({\\rm TeV}\\,{\\rm cm}^{-2}\\,{\\rm s}^{-1})$\"\n",
    ")\n",
    "ax.set_ylim([1e-14, 1e-10])\n",
    "ax.legend()\n",
    "plt.show()"
   ]
  },
  {
   "cell_type": "markdown",
   "id": "fa21feb6-c60b-44e8-b65e-bb375d8f1a09",
   "metadata": {},
   "source": [
    "The simulated spectrum of the point source is more or less within our estimation, but we got a completley wrong estimation of the spectral index of the shell. Of course, the source with Gaussian extension was not included in our model. \n",
    "\n",
    "Let us include now all the sources in the model to be used for the fit."
   ]
  },
  {
   "cell_type": "code",
   "execution_count": null,
   "id": "ed257cc0-ab64-42c4-b997-9b871630becb",
   "metadata": {},
   "outputs": [],
   "source": [
    "models_fit_2 = Models([model_1.copy(), model_2.copy(), model_3.copy(), bkg_model.copy()])\n",
    "\n",
    "# We do not want to fit the background in this case, so we will freeze the parameters\n",
    "models_fit_2[\"dataset-simu-bkg\"].spectral_model.norm.frozen = True\n",
    "models_fit_2[\"dataset-simu-bkg\"].spectral_model.tilt.frozen = True\n",
    "\n",
    "# assign the model to the data set\n",
    "dataset.models = models_fit_2\n",
    "print(dataset.models)"
   ]
  },
  {
   "cell_type": "code",
   "execution_count": null,
   "id": "015e4929-6888-4b22-ba62-c0f557b6f939",
   "metadata": {},
   "outputs": [],
   "source": [
    "%%time\n",
    "# fit it again!\n",
    "fit = Fit()\n",
    "results = fit.run(datasets=[dataset])\n",
    "print(results)\n",
    "print(models_fit_2)"
   ]
  },
  {
   "cell_type": "markdown",
   "id": "260d0477-df00-4202-a78a-303ee18e1af2",
   "metadata": {},
   "source": [
    "Let us examine again the residuals."
   ]
  },
  {
   "cell_type": "code",
   "execution_count": null,
   "id": "8b91e100-73c3-4316-bdb1-35285ea48e94",
   "metadata": {},
   "outputs": [],
   "source": [
    "ax = dataset.plot_residuals_spatial(method=\"diff/sqrt(model)\", vmin=-0.5, vmax=0.5)\n",
    "plt.show()"
   ]
  },
  {
   "cell_type": "markdown",
   "id": "4d253d56-66c4-41d9-b62c-421032e7c008",
   "metadata": {},
   "source": [
    "Let us now compare the spectral models we have simulated with those we have fitted."
   ]
  },
  {
   "cell_type": "code",
   "execution_count": null,
   "id": "668d9178-813f-4982-9d3e-18ed63819e06",
   "metadata": {},
   "outputs": [],
   "source": [
    "fig, ax = plt.subplots()\n",
    "\n",
    "plot_kwargs = {\n",
    "    \"sed_type\": \"e2dnde\",\n",
    "    \"yunits\": u.Unit(\"TeV cm-2 s-1\"),\n",
    "    \"xunits\": u.GeV,\n",
    "}\n",
    "\n",
    "energy_range = [100 * u.GeV, 10 * u.TeV]\n",
    "\n",
    "models_fit_2[0].spectral_model.plot(\n",
    "    energy_range,\n",
    "    ax=ax,\n",
    "    color=\"dimgray\",\n",
    "    ls=\"--\",\n",
    "    label=\"point source, fit\",\n",
    "    **plot_kwargs,\n",
    ")\n",
    "models_fit_2[0].spectral_model.plot_error(\n",
    "    energy_range, ax=ax, facecolor=\"dimgray\", alpha=0.4, **plot_kwargs\n",
    ")\n",
    "model_1.spectral_model.plot(\n",
    "    energy_range,\n",
    "    ax=ax,\n",
    "    color=\"k\",\n",
    "    ls=\"-\",\n",
    "    label=\"point source, simulated\",\n",
    "    **plot_kwargs,\n",
    ")\n",
    "\n",
    "models_fit_2[1].spectral_model.plot(\n",
    "    energy_range,\n",
    "    ax=ax,\n",
    "    color=\"darksalmon\",\n",
    "    ls=\"--\",\n",
    "    label=\"gaussian, fit\",\n",
    "    **plot_kwargs,\n",
    ")\n",
    "models_fit_2[1].spectral_model.plot_error(\n",
    "    energy_range, ax=ax, facecolor=\"darksalmon\", alpha=0.4, **plot_kwargs\n",
    ")\n",
    "model_2.spectral_model.plot(\n",
    "    energy_range,\n",
    "    ax=ax,\n",
    "    color=\"crimson\",\n",
    "    ls=\"-\",\n",
    "    label=\"gaussian, simulated\",\n",
    "    **plot_kwargs,\n",
    ")\n",
    "\n",
    "models_fit_2[2].spectral_model.plot(\n",
    "    energy_range,\n",
    "    ax=ax,\n",
    "    color=\"turquoise\",\n",
    "    ls=\"--\",\n",
    "    label=\"shell, fit\",\n",
    "    **plot_kwargs,\n",
    ")\n",
    "models_fit_2[2].spectral_model.plot_error(\n",
    "    energy_range, ax=ax, facecolor=\"turquoise\", alpha=0.4, **plot_kwargs\n",
    ")\n",
    "model_3.spectral_model.plot(\n",
    "    energy_range,\n",
    "    ax=ax,\n",
    "    color=\"teal\",\n",
    "    ls=\"-\",\n",
    "    label=\"shell, simulated\",\n",
    "    **plot_kwargs,\n",
    ")\n",
    "ax.set_xlabel(r\"$E\\,/\\,{\\rm GeV}$\")\n",
    "ax.set_ylabel(\n",
    "    r\"$E^2 {\\rm d}\\phi/{\\rm d}E\\,/\\,({\\rm TeV}\\,{\\rm cm}^{-2}\\,{\\rm s}^{-1})$\"\n",
    ")\n",
    "ax.set_ylim([1e-14, 1e-10])\n",
    "ax.legend()\n",
    "plt.show()"
   ]
  },
  {
   "cell_type": "markdown",
   "id": "c7ca6642-8da7-4363-843d-008fdf15763e",
   "metadata": {},
   "source": [
    "The spectra we fitted contain, within their uncertainty band, those we simulated.\n",
    "\n",
    "Finally, a plot that is commonly shown in spectro-morphological analyses is an histogram of the contribution of each of the sources to the observed counts. Usually the counts are extracted from a small region containing all the sources. In this case let us examine the counts within the region marked by the outer edge of the shell."
   ]
  },
  {
   "cell_type": "code",
   "execution_count": null,
   "id": "036ecac1-7422-4784-a403-5148318d8a0a",
   "metadata": {},
   "outputs": [],
   "source": [
    "counts_region = CircleSkyRegion(\n",
    "    center=spatial_model_3.to_region().center,\n",
    "    radius=spatial_model_3.to_region().outer_radius,\n",
    ")\n",
    "\n",
    "spec = dataset.to_spectrum_dataset(counts_region, containment_correction=True)\n",
    "\n",
    "# - predict the counts from the first source\n",
    "so1 = SkyModel(models_fit_2[0].spectral_model)\n",
    "spec.models = [so1]\n",
    "npred_1 = Map.from_geom(spec.counts.geom)\n",
    "npred_1.data = spec.npred_signal().data\n",
    "\n",
    "# - predict the counts from the second source\n",
    "so2 = SkyModel(models_fit_2[1].spectral_model)\n",
    "spec.models = [so2]\n",
    "npred_2 = Map.from_geom(spec.counts.geom)\n",
    "npred_2.data = spec.npred_signal().data\n",
    "npred_2.data *= (\n",
    "    models_fit_2[1].spatial_model.integrate_geom(spec.counts.geom).quantity.to_value(\"\")\n",
    ")\n",
    "\n",
    "# - predict the counts from the third source\n",
    "so3 = SkyModel(models_fit_2[2].spectral_model)\n",
    "spec.models = [so3]\n",
    "npred_3 = Map.from_geom(spec.counts.geom)\n",
    "npred_3.data = spec.npred_signal().data\n",
    "npred_3.data *= (\n",
    "    models_fit_2[2].spatial_model.integrate_geom(spec.counts.geom).quantity.to_value(\"\")\n",
    ")"
   ]
  },
  {
   "cell_type": "code",
   "execution_count": null,
   "id": "49a909a8-ea17-4536-9620-57b205821902",
   "metadata": {},
   "outputs": [],
   "source": [
    "fig, ax = plt.subplots()\n",
    "\n",
    "spec.plot_excess(color=\"k\")\n",
    "\n",
    "npred_1.plot_hist(label=\"point source\")\n",
    "npred_2.plot_hist(label=\"gaussian\")\n",
    "npred_3.plot_hist(label=\"shell\")\n",
    "(npred_1 + npred_2 + npred_3).plot_hist(ax=ax, label=\"total\", lw=1.5, color=\"crimson\")\n",
    "\n",
    "ax.legend()\n",
    "ax.set_ylim([1e-4, 1e4])\n",
    "plt.show()"
   ]
  }
 ],
 "metadata": {
  "kernelspec": {
   "display_name": "Python 3 (ipykernel)",
   "language": "python",
   "name": "python3"
  },
  "language_info": {
   "codemirror_mode": {
    "name": "ipython",
    "version": 3
   },
   "file_extension": ".py",
   "mimetype": "text/x-python",
   "name": "python",
   "nbconvert_exporter": "python",
   "pygments_lexer": "ipython3",
   "version": "3.10.14"
  }
 },
 "nbformat": 4,
 "nbformat_minor": 5
}
